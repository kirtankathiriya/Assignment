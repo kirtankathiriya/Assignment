{
 "cells": [
  {
   "cell_type": "code",
   "execution_count": 3,
   "id": "18f5bac3-d89b-41be-9c65-2cd8e404bcd8",
   "metadata": {},
   "outputs": [],
   "source": [
    "#Q1 How can we store a single quote (‘) as a str1ng 1n a var1able?"
   ]
  },
  {
   "cell_type": "code",
   "execution_count": 4,
   "id": "7eeb708d-4bb4-4c88-964a-a9614069fcfb",
   "metadata": {},
   "outputs": [],
   "source": [
    "s = \"\\'\""
   ]
  },
  {
   "cell_type": "code",
   "execution_count": 5,
   "id": "b53196af-d915-464b-8d1c-912d1cc2a579",
   "metadata": {},
   "outputs": [
    {
     "data": {
      "text/plain": [
       "\"'\""
      ]
     },
     "execution_count": 5,
     "metadata": {},
     "output_type": "execute_result"
    }
   ],
   "source": [
    "s"
   ]
  },
  {
   "cell_type": "code",
   "execution_count": 6,
   "id": "632d9d95-163d-4cb3-a91c-3837bbbde610",
   "metadata": {},
   "outputs": [],
   "source": [
    "#Q2 Refer the below var1able:\n",
    "#x = 'a'\n",
    "#Here, 1s x a character type or str1ng type var1able? Support your answer w1th an explanat1on."
   ]
  },
  {
   "cell_type": "code",
   "execution_count": 7,
   "id": "923f6557-7869-4a18-bbc6-8a22336ca142",
   "metadata": {},
   "outputs": [
    {
     "data": {
      "text/plain": [
       "str"
      ]
     },
     "execution_count": 7,
     "metadata": {},
     "output_type": "execute_result"
    }
   ],
   "source": [
    "x = 'a'\n",
    "type(x)"
   ]
  },
  {
   "cell_type": "code",
   "execution_count": 8,
   "id": "b065983c-83e9-4d24-aa32-2189355a6e1d",
   "metadata": {},
   "outputs": [],
   "source": [
    "#-->in above example we can say that x is a string type variable"
   ]
  },
  {
   "cell_type": "code",
   "execution_count": 9,
   "id": "a8c06b75-41a2-4346-9680-047dc2412e75",
   "metadata": {},
   "outputs": [],
   "source": [
    "#Q3 Apply the follow1ng funct1ons on th1s var1able: ‘Welcome to Python foun at1on course'\n",
    "#find(),count(),len(),Concatenat1on()"
   ]
  },
  {
   "cell_type": "code",
   "execution_count": 26,
   "id": "e35b90b0-4d9c-49cb-a160-76c3922b165d",
   "metadata": {},
   "outputs": [],
   "source": [
    "s1 = \"Welcome to python foundation course \""
   ]
  },
  {
   "cell_type": "code",
   "execution_count": 14,
   "id": "d9cb9b1e-84a3-44a1-bf0b-e19a374761f3",
   "metadata": {},
   "outputs": [
    {
     "data": {
      "text/plain": [
       "4"
      ]
     },
     "execution_count": 14,
     "metadata": {},
     "output_type": "execute_result"
    }
   ],
   "source": [
    "s1.find('o')"
   ]
  },
  {
   "cell_type": "code",
   "execution_count": 17,
   "id": "72bb54db-fb97-4556-94d6-40e762724a86",
   "metadata": {},
   "outputs": [
    {
     "data": {
      "text/plain": [
       "1"
      ]
     },
     "execution_count": 17,
     "metadata": {},
     "output_type": "execute_result"
    }
   ],
   "source": [
    "s1.count('f')"
   ]
  },
  {
   "cell_type": "code",
   "execution_count": 20,
   "id": "49f5236d-b5d7-4d44-9631-ede79f536670",
   "metadata": {},
   "outputs": [
    {
     "data": {
      "text/plain": [
       "35"
      ]
     },
     "execution_count": 20,
     "metadata": {},
     "output_type": "execute_result"
    }
   ],
   "source": [
    "len(s1)"
   ]
  },
  {
   "cell_type": "code",
   "execution_count": 21,
   "id": "c70dd383-1f18-4f68-bf6f-26406e8eec80",
   "metadata": {},
   "outputs": [],
   "source": [
    "s2 = \"Good Morning\""
   ]
  },
  {
   "cell_type": "code",
   "execution_count": 27,
   "id": "34aec86e-49c7-4289-acf9-9da98fd5d04b",
   "metadata": {},
   "outputs": [],
   "source": [
    "s3 = s1 + s2"
   ]
  },
  {
   "cell_type": "code",
   "execution_count": 28,
   "id": "3c26c962-9d45-4cdb-b251-03e584103eff",
   "metadata": {},
   "outputs": [
    {
     "data": {
      "text/plain": [
       "'Welcome to python foundation course Good Morning'"
      ]
     },
     "execution_count": 28,
     "metadata": {},
     "output_type": "execute_result"
    }
   ],
   "source": [
    "s3"
   ]
  },
  {
   "cell_type": "code",
   "execution_count": 29,
   "id": "799bd1c2-6587-4739-8af7-7f6bfbe47266",
   "metadata": {},
   "outputs": [],
   "source": [
    "#Q4 For the var1able: wor = ‘PanaJ1@T//56(\n",
    "#Calculate the follow1ng:\n",
    "#(a) Total number of alphabets 1n lowercase\n",
    "#(b) Total number of alphabets 1n uppercase\n",
    "#(c) Total number of numer1cal 1n str1ng"
   ]
  },
  {
   "cell_type": "code",
   "execution_count": 31,
   "id": "beba2bdd-7ba2-46fb-a645-19f740de5f85",
   "metadata": {},
   "outputs": [],
   "source": [
    "word = 'PanaJ1@T//56'"
   ]
  },
  {
   "cell_type": "code",
   "execution_count": 32,
   "id": "24b06de8-eade-4b33-9189-6ad32adee44b",
   "metadata": {},
   "outputs": [
    {
     "data": {
      "text/plain": [
       "'panaj1@t//56'"
      ]
     },
     "execution_count": 32,
     "metadata": {},
     "output_type": "execute_result"
    }
   ],
   "source": [
    "word.lower()"
   ]
  },
  {
   "cell_type": "code",
   "execution_count": 33,
   "id": "d76f96c5-591c-4c57-8b15-7a233c5e1cee",
   "metadata": {},
   "outputs": [
    {
     "data": {
      "text/plain": [
       "'PANAJ1@T//56'"
      ]
     },
     "execution_count": 33,
     "metadata": {},
     "output_type": "execute_result"
    }
   ],
   "source": [
    "word.upper()"
   ]
  },
  {
   "cell_type": "code",
   "execution_count": 36,
   "id": "ee443413-e0fe-4ed2-92ee-429228fcfd52",
   "metadata": {},
   "outputs": [
    {
     "data": {
      "text/plain": [
       "False"
      ]
     },
     "execution_count": 36,
     "metadata": {},
     "output_type": "execute_result"
    }
   ],
   "source": [
    "word.isnumeric()"
   ]
  },
  {
   "cell_type": "code",
   "execution_count": 37,
   "id": "25d3a245-7d68-476a-8d37-8caa0ef0eee5",
   "metadata": {},
   "outputs": [],
   "source": [
    "#Q5 Wr1te a co e to store a numer1cal value 1ns1 e a var1able then convert 1t 1nto str1ngQ"
   ]
  },
  {
   "cell_type": "code",
   "execution_count": 38,
   "id": "661f2d6d-7345-469c-bb43-fe22b65b172c",
   "metadata": {},
   "outputs": [],
   "source": [
    "x = 104"
   ]
  },
  {
   "cell_type": "code",
   "execution_count": 39,
   "id": "ccbf4753-24c5-4fae-9a4f-7ebcf4c9cab9",
   "metadata": {},
   "outputs": [
    {
     "data": {
      "text/plain": [
       "int"
      ]
     },
     "execution_count": 39,
     "metadata": {},
     "output_type": "execute_result"
    }
   ],
   "source": [
    "type(x)"
   ]
  },
  {
   "cell_type": "code",
   "execution_count": 40,
   "id": "2e7bc35b-66e2-42c0-952f-ed8c75fe09a8",
   "metadata": {},
   "outputs": [],
   "source": [
    "x = \"kirtan kathiriya\""
   ]
  },
  {
   "cell_type": "code",
   "execution_count": 41,
   "id": "043b4408-fcf5-4418-8fc4-0d6e0312895a",
   "metadata": {},
   "outputs": [
    {
     "data": {
      "text/plain": [
       "str"
      ]
     },
     "execution_count": 41,
     "metadata": {},
     "output_type": "execute_result"
    }
   ],
   "source": [
    "type(x)"
   ]
  },
  {
   "cell_type": "code",
   "execution_count": null,
   "id": "1b39b32d-dfa1-4d3a-b6d7-f5c98cd85e90",
   "metadata": {},
   "outputs": [],
   "source": []
  }
 ],
 "metadata": {
  "kernelspec": {
   "display_name": "Python 3 (ipykernel)",
   "language": "python",
   "name": "python3"
  },
  "language_info": {
   "codemirror_mode": {
    "name": "ipython",
    "version": 3
   },
   "file_extension": ".py",
   "mimetype": "text/x-python",
   "name": "python",
   "nbconvert_exporter": "python",
   "pygments_lexer": "ipython3",
   "version": "3.10.8"
  }
 },
 "nbformat": 4,
 "nbformat_minor": 5
}
